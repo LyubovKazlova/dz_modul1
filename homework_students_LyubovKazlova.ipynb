{
 "cells": [
  {
   "cell_type": "markdown",
   "metadata": {},
   "source": [
    "## Практическое домашнее задание на проверку знаний по модулю 1.\n",
    "\n",
    "\n",
    "##### Тема тестирования - базовый эксплоративный анализ и аналитическое мышление. Вам будет предоставлен датасет и 25 вопросов касаемо данного датасета. Ваша задача - подумать как найти ответы на поставленные вопросы ниже. За каждый правильно оформленный и предоставленный ответ начисляется *4 балла*.\n",
    "\n",
    "#### Ответ на решение присылать ссылкой на ваш гитхаб репозиторий на почту maratmovlamov2017@gmail.com\n",
    "\n",
    "#### Сроки выполнения практического домашнего задания - ровно 7 календарных дней (168 часов) с момента публикации в группе. Прошу приступать к решению задач порционно. Прошу повторить дополнительные материалы, предоставленные в качестве самостоятельного изучения в конце презентаций, они вам понадобятся.\n",
    "\n",
    "\n",
    "\n",
    "#### Критерии оценки присланного решения:\n",
    "\n",
    "* Правильность полученного ответа - на каждый поставленный вопрос есть один и только один правильный ответ. В случае неправильного ответа на поставленный вопрос, предоставленный ответ на него считается проваленным, даже если код написан правильно и красиво. Общее количество баллов, которые можно получить ответив на все вопросы верно - 25 * 4 = 100 баллов, которые шкалируются к 10-ти бальной шкале.\n",
    "\n",
    "___\n",
    "\n",
    "* Аккуратность, правильность и читаемость кода - старайтесь писать код без повторного использования методов и ненужных переменных (помните про принцип DRY - don't repeat yourself). Плюсом будет, если ваш код будет упакован в лаконичную и красиво написанную функцию. Если вся работа выполненна аккуратно, без спагетти кода, к общему результату работы начисляется 1 балл.\n",
    "\n",
    "---\n",
    "\n",
    "* На предоставленные вопросы, дописывается комментарий для проверки вашего мышления и поиска ответа в виде Markdown комментария. В случае если комментарий на поставленный вопрос не предоставлен снимается 0.1 балл за каждый такой вопрос. То есть общий штраф за отсутсвие комментариев по всем вопросам 25 * -0.1 =  -2.5 балла.\n",
    "\n",
    "\n",
    "#### Удачи и да прибудет с Вами сила :)\n",
    "\n"
   ]
  },
  {
   "cell_type": "code",
   "execution_count": 181,
   "metadata": {
    "ExecuteTime": {
     "end_time": "2023-05-22T09:51:30.639118200Z",
     "start_time": "2023-05-22T09:51:30.360510500Z"
    }
   },
   "outputs": [],
   "source": [
    "import pandas as pd\n",
    "import numpy as np"
   ]
  },
  {
   "cell_type": "code",
   "execution_count": 182,
   "metadata": {
    "ExecuteTime": {
     "end_time": "2023-05-22T09:51:31.599273500Z",
     "start_time": "2023-05-22T09:51:31.113968400Z"
    }
   },
   "outputs": [],
   "source": [
    "df = pd.read_csv(\"./dataset/Spotify_Youtube.csv\")"
   ]
  },
  {
   "cell_type": "code",
   "execution_count": 183,
   "metadata": {
    "ExecuteTime": {
     "end_time": "2023-05-22T09:51:32.243645600Z",
     "start_time": "2023-05-22T09:51:32.227638100Z"
    }
   },
   "outputs": [
    {
     "data": {
      "text/html": [
       "<div>\n",
       "<style scoped>\n",
       "    .dataframe tbody tr th:only-of-type {\n",
       "        vertical-align: middle;\n",
       "    }\n",
       "\n",
       "    .dataframe tbody tr th {\n",
       "        vertical-align: top;\n",
       "    }\n",
       "\n",
       "    .dataframe thead th {\n",
       "        text-align: right;\n",
       "    }\n",
       "</style>\n",
       "<table border=\"1\" class=\"dataframe\">\n",
       "  <thead>\n",
       "    <tr style=\"text-align: right;\">\n",
       "      <th></th>\n",
       "      <th>Unnamed: 0</th>\n",
       "      <th>Artist</th>\n",
       "      <th>Url_spotify</th>\n",
       "      <th>Track</th>\n",
       "      <th>Album</th>\n",
       "      <th>Album_type</th>\n",
       "      <th>Uri</th>\n",
       "      <th>Danceability</th>\n",
       "      <th>Energy</th>\n",
       "      <th>Key</th>\n",
       "      <th>...</th>\n",
       "      <th>Url_youtube</th>\n",
       "      <th>Title</th>\n",
       "      <th>Channel</th>\n",
       "      <th>Views</th>\n",
       "      <th>Likes</th>\n",
       "      <th>Comments</th>\n",
       "      <th>Description</th>\n",
       "      <th>Licensed</th>\n",
       "      <th>official_video</th>\n",
       "      <th>Stream</th>\n",
       "    </tr>\n",
       "  </thead>\n",
       "  <tbody>\n",
       "    <tr>\n",
       "      <th>20713</th>\n",
       "      <td>20713</td>\n",
       "      <td>SICK LEGEND</td>\n",
       "      <td>https://open.spotify.com/artist/3EYY5FwDkHEYLw...</td>\n",
       "      <td>JUST DANCE HARDSTYLE</td>\n",
       "      <td>JUST DANCE HARDSTYLE</td>\n",
       "      <td>single</td>\n",
       "      <td>spotify:track:0RtcKQGyI4hr8FgFH1TuYG</td>\n",
       "      <td>0.582</td>\n",
       "      <td>0.926</td>\n",
       "      <td>5.0</td>\n",
       "      <td>...</td>\n",
       "      <td>https://www.youtube.com/watch?v=5SHmKFKlNqI</td>\n",
       "      <td>JUST DANCE HARDSTYLE</td>\n",
       "      <td>SICK LEGEND - Topic</td>\n",
       "      <td>71678.0</td>\n",
       "      <td>1113.0</td>\n",
       "      <td>0.0</td>\n",
       "      <td>Provided to YouTube by Routenote\\n\\nJUST DANCE...</td>\n",
       "      <td>True</td>\n",
       "      <td>True</td>\n",
       "      <td>9227144.0</td>\n",
       "    </tr>\n",
       "    <tr>\n",
       "      <th>20714</th>\n",
       "      <td>20714</td>\n",
       "      <td>SICK LEGEND</td>\n",
       "      <td>https://open.spotify.com/artist/3EYY5FwDkHEYLw...</td>\n",
       "      <td>SET FIRE TO THE RAIN HARDSTYLE</td>\n",
       "      <td>SET FIRE TO THE RAIN HARDSTYLE</td>\n",
       "      <td>single</td>\n",
       "      <td>spotify:track:3rHvPA8lUnPBkaLyPOc0VV</td>\n",
       "      <td>0.531</td>\n",
       "      <td>0.936</td>\n",
       "      <td>4.0</td>\n",
       "      <td>...</td>\n",
       "      <td>https://www.youtube.com/watch?v=ocTH6KxllDQ</td>\n",
       "      <td>SET FIRE TO THE RAIN HARDSTYLE</td>\n",
       "      <td>SICK LEGEND - Topic</td>\n",
       "      <td>164741.0</td>\n",
       "      <td>2019.0</td>\n",
       "      <td>0.0</td>\n",
       "      <td>Provided to YouTube by Routenote\\n\\nSET FIRE T...</td>\n",
       "      <td>True</td>\n",
       "      <td>True</td>\n",
       "      <td>10898176.0</td>\n",
       "    </tr>\n",
       "    <tr>\n",
       "      <th>20715</th>\n",
       "      <td>20715</td>\n",
       "      <td>SICK LEGEND</td>\n",
       "      <td>https://open.spotify.com/artist/3EYY5FwDkHEYLw...</td>\n",
       "      <td>OUTSIDE HARDSTYLE SPED UP</td>\n",
       "      <td>OUTSIDE HARDSTYLE SPED UP</td>\n",
       "      <td>single</td>\n",
       "      <td>spotify:track:4jk00YxPtPbhvHJE9N4ddv</td>\n",
       "      <td>0.443</td>\n",
       "      <td>0.830</td>\n",
       "      <td>4.0</td>\n",
       "      <td>...</td>\n",
       "      <td>https://www.youtube.com/watch?v=5wFhE-HY0hg</td>\n",
       "      <td>OUTSIDE HARDSTYLE SPED UP</td>\n",
       "      <td>SICK LEGEND - Topic</td>\n",
       "      <td>35646.0</td>\n",
       "      <td>329.0</td>\n",
       "      <td>0.0</td>\n",
       "      <td>Provided to YouTube by Routenote\\n\\nOUTSIDE HA...</td>\n",
       "      <td>True</td>\n",
       "      <td>True</td>\n",
       "      <td>6226110.0</td>\n",
       "    </tr>\n",
       "    <tr>\n",
       "      <th>20716</th>\n",
       "      <td>20716</td>\n",
       "      <td>SICK LEGEND</td>\n",
       "      <td>https://open.spotify.com/artist/3EYY5FwDkHEYLw...</td>\n",
       "      <td>ONLY GIRL HARDSTYLE</td>\n",
       "      <td>ONLY GIRL HARDSTYLE</td>\n",
       "      <td>single</td>\n",
       "      <td>spotify:track:5EyErbpsugWliX006eTDex</td>\n",
       "      <td>0.417</td>\n",
       "      <td>0.767</td>\n",
       "      <td>9.0</td>\n",
       "      <td>...</td>\n",
       "      <td>https://www.youtube.com/watch?v=VMFLbFRNCn0</td>\n",
       "      <td>ONLY GIRL HARDSTYLE</td>\n",
       "      <td>SICK LEGEND - Topic</td>\n",
       "      <td>6533.0</td>\n",
       "      <td>88.0</td>\n",
       "      <td>0.0</td>\n",
       "      <td>Provided to YouTube by Routenote\\n\\nONLY GIRL ...</td>\n",
       "      <td>True</td>\n",
       "      <td>True</td>\n",
       "      <td>6873961.0</td>\n",
       "    </tr>\n",
       "    <tr>\n",
       "      <th>20717</th>\n",
       "      <td>20717</td>\n",
       "      <td>SICK LEGEND</td>\n",
       "      <td>https://open.spotify.com/artist/3EYY5FwDkHEYLw...</td>\n",
       "      <td>MISS YOU HARDSTYLE</td>\n",
       "      <td>MISS YOU HARDSTYLE</td>\n",
       "      <td>single</td>\n",
       "      <td>spotify:track:6lOn0jz1QpjcWeXo1oMm0k</td>\n",
       "      <td>0.498</td>\n",
       "      <td>0.938</td>\n",
       "      <td>6.0</td>\n",
       "      <td>...</td>\n",
       "      <td>https://www.youtube.com/watch?v=zau0dckCFi0</td>\n",
       "      <td>MISS YOU HARDSTYLE</td>\n",
       "      <td>SICK LEGEND - Topic</td>\n",
       "      <td>158697.0</td>\n",
       "      <td>2484.0</td>\n",
       "      <td>0.0</td>\n",
       "      <td>Provided to YouTube by Routenote\\n\\nMISS YOU H...</td>\n",
       "      <td>True</td>\n",
       "      <td>True</td>\n",
       "      <td>5695584.0</td>\n",
       "    </tr>\n",
       "  </tbody>\n",
       "</table>\n",
       "<p>5 rows × 28 columns</p>\n",
       "</div>"
      ],
      "text/plain": [
       "       Unnamed: 0       Artist  \\\n",
       "20713       20713  SICK LEGEND   \n",
       "20714       20714  SICK LEGEND   \n",
       "20715       20715  SICK LEGEND   \n",
       "20716       20716  SICK LEGEND   \n",
       "20717       20717  SICK LEGEND   \n",
       "\n",
       "                                             Url_spotify  \\\n",
       "20713  https://open.spotify.com/artist/3EYY5FwDkHEYLw...   \n",
       "20714  https://open.spotify.com/artist/3EYY5FwDkHEYLw...   \n",
       "20715  https://open.spotify.com/artist/3EYY5FwDkHEYLw...   \n",
       "20716  https://open.spotify.com/artist/3EYY5FwDkHEYLw...   \n",
       "20717  https://open.spotify.com/artist/3EYY5FwDkHEYLw...   \n",
       "\n",
       "                                Track                           Album  \\\n",
       "20713            JUST DANCE HARDSTYLE            JUST DANCE HARDSTYLE   \n",
       "20714  SET FIRE TO THE RAIN HARDSTYLE  SET FIRE TO THE RAIN HARDSTYLE   \n",
       "20715       OUTSIDE HARDSTYLE SPED UP       OUTSIDE HARDSTYLE SPED UP   \n",
       "20716             ONLY GIRL HARDSTYLE             ONLY GIRL HARDSTYLE   \n",
       "20717              MISS YOU HARDSTYLE              MISS YOU HARDSTYLE   \n",
       "\n",
       "      Album_type                                   Uri  Danceability  Energy  \\\n",
       "20713     single  spotify:track:0RtcKQGyI4hr8FgFH1TuYG         0.582   0.926   \n",
       "20714     single  spotify:track:3rHvPA8lUnPBkaLyPOc0VV         0.531   0.936   \n",
       "20715     single  spotify:track:4jk00YxPtPbhvHJE9N4ddv         0.443   0.830   \n",
       "20716     single  spotify:track:5EyErbpsugWliX006eTDex         0.417   0.767   \n",
       "20717     single  spotify:track:6lOn0jz1QpjcWeXo1oMm0k         0.498   0.938   \n",
       "\n",
       "       Key  ...                                  Url_youtube  \\\n",
       "20713  5.0  ...  https://www.youtube.com/watch?v=5SHmKFKlNqI   \n",
       "20714  4.0  ...  https://www.youtube.com/watch?v=ocTH6KxllDQ   \n",
       "20715  4.0  ...  https://www.youtube.com/watch?v=5wFhE-HY0hg   \n",
       "20716  9.0  ...  https://www.youtube.com/watch?v=VMFLbFRNCn0   \n",
       "20717  6.0  ...  https://www.youtube.com/watch?v=zau0dckCFi0   \n",
       "\n",
       "                                Title              Channel     Views   Likes  \\\n",
       "20713            JUST DANCE HARDSTYLE  SICK LEGEND - Topic   71678.0  1113.0   \n",
       "20714  SET FIRE TO THE RAIN HARDSTYLE  SICK LEGEND - Topic  164741.0  2019.0   \n",
       "20715       OUTSIDE HARDSTYLE SPED UP  SICK LEGEND - Topic   35646.0   329.0   \n",
       "20716             ONLY GIRL HARDSTYLE  SICK LEGEND - Topic    6533.0    88.0   \n",
       "20717              MISS YOU HARDSTYLE  SICK LEGEND - Topic  158697.0  2484.0   \n",
       "\n",
       "       Comments                                        Description  Licensed  \\\n",
       "20713       0.0  Provided to YouTube by Routenote\\n\\nJUST DANCE...      True   \n",
       "20714       0.0  Provided to YouTube by Routenote\\n\\nSET FIRE T...      True   \n",
       "20715       0.0  Provided to YouTube by Routenote\\n\\nOUTSIDE HA...      True   \n",
       "20716       0.0  Provided to YouTube by Routenote\\n\\nONLY GIRL ...      True   \n",
       "20717       0.0  Provided to YouTube by Routenote\\n\\nMISS YOU H...      True   \n",
       "\n",
       "      official_video      Stream  \n",
       "20713           True   9227144.0  \n",
       "20714           True  10898176.0  \n",
       "20715           True   6226110.0  \n",
       "20716           True   6873961.0  \n",
       "20717           True   5695584.0  \n",
       "\n",
       "[5 rows x 28 columns]"
      ]
     },
     "execution_count": 183,
     "metadata": {},
     "output_type": "execute_result"
    }
   ],
   "source": [
    "df.tail()"
   ]
  },
  {
   "cell_type": "markdown",
   "metadata": {},
   "source": [
    "### Структура датасета:\n",
    "\n",
    "----\n",
    "\n",
    "26 признаков, описание которых следует ниже:\n",
    "\n",
    "\n",
    "\n",
    "- **Track**: name of the song, as visible on the Spotify platform.\n",
    "- **Artist**: name of the artist.\n",
    "- **Url_spotify**: the Url of the artist.\n",
    "- **Album**: the album in wich the song is contained on Spotify.\n",
    "- **Album_type**: indicates if the song is relesead on Spotify as a single or contained in an album.\n",
    "- **Uri**: a spotify link used to find the song through the API.\n",
    "- **Danceability**: describes how suitable a track is for dancing based on a combination of musical elements including tempo, rhythm stability, beat strength, and overall regularity. A value of 0.0 is least danceable and 1.0 is most danceable.\n",
    "- **Energy:** is a measure from 0.0 to 1.0 and represents a perceptual measure of intensity and activity. Typically, energetic tracks feel fast, loud, and noisy. For example, death metal has high energy, while a Bach prelude scores low on the scale. Perceptual features contributing to this attribute include dynamic range, perceived loudness, timbre, onset rate, and general entropy.\n",
    "- **Key**: the key the track is in. Integers map to pitches using standard Pitch Class notation. E.g. 0 = C, 1 = C♯/D♭, 2 = D, and so on. If no key was detected, the value is -1.\n",
    "- **Loudness**: the overall loudness of a track in decibels (dB). Loudness values are averaged across the entire track and are useful for comparing relative loudness of tracks. Loudness is the quality of a sound that is the primary psychological correlate of physical strength (amplitude). Values typically range between -60 and 0 db.\n",
    "- **Speechiness**: detects the presence of spoken words in a track. The more exclusively speech-like the recording (e.g. talk show, audio book, poetry), the closer to 1.0 the attribute value. Values above 0.66 describe tracks that are probably made entirely of spoken words. Values between 0.33 and 0.66 describe tracks that may contain both music and speech, either in sections or layered, including such cases as rap music. Values below 0.33 most likely represent music and other non-speech-like tracks.\n",
    "- **Acousticness**: a confidence measure from 0.0 to 1.0 of whether the track is acoustic. 1.0 represents high confidence the track is acoustic.\n",
    "- **Instrumentalness**: predicts whether a track contains no vocals. \"Ooh\" and \"aah\" sounds are treated as instrumental in this context. Rap or spoken word tracks are clearly \"vocal\". The closer the instrumentalness value is to 1.0, the greater likelihood the track contains no vocal content. Values above 0.5 are intended to represent instrumental tracks, but confidence is higher as the value approaches 1.0.\n",
    "- **Liveness**: detects the presence of an audience in the recording. Higher liveness values represent an increased probability that the track was performed live. A value above 0.8 provides strong likelihood that the track is live.\n",
    "- **Valence**: a measure from 0.0 to 1.0 describing the musical positiveness conveyed by a track. Tracks with high valence sound more positive (e.g. happy, cheerful, euphoric), while tracks with low valence sound more negative (e.g. sad, depressed, angry).\n",
    "- **Tempo**: the overall estimated tempo of a track in beats per minute (BPM). In musical terminology, tempo is the speed or pace of a given piece and derives directly from the average beat duration.\n",
    "- **Duration_ms**: the duration of the track in milliseconds.\n",
    "- **Stream**: number of streams of the song on Spotify.\n",
    "- **Url_youtube**: url of the video linked to the song on Youtube, if it have any.\n",
    "- **Title**: title of the videoclip on youtube.\n",
    "- **Channel**: name of the channel that have published the video.\n",
    "- **Views**: number of views.\n",
    "- **Likes**: number of likes.\n",
    "- **Comments**: number of comments.\n",
    "- **Description**: description of the video on Youtube.\n",
    "- **Licensed**: Indicates whether the video represents licensed content, which means that the content was uploaded to a channel linked to a YouTube content partner and then claimed by that partner. official_video: boolean value that indicates if the video found is the official video of the song."
   ]
  },
  {
   "cell_type": "code",
   "execution_count": 184,
   "metadata": {},
   "outputs": [
    {
     "name": "stdout",
     "output_type": "stream",
     "text": [
      "<class 'pandas.core.frame.DataFrame'>\n",
      "RangeIndex: 20718 entries, 0 to 20717\n",
      "Data columns (total 28 columns):\n",
      " #   Column            Non-Null Count  Dtype  \n",
      "---  ------            --------------  -----  \n",
      " 0   Unnamed: 0        20718 non-null  int64  \n",
      " 1   Artist            20718 non-null  object \n",
      " 2   Url_spotify       20718 non-null  object \n",
      " 3   Track             20718 non-null  object \n",
      " 4   Album             20718 non-null  object \n",
      " 5   Album_type        20718 non-null  object \n",
      " 6   Uri               20718 non-null  object \n",
      " 7   Danceability      20716 non-null  float64\n",
      " 8   Energy            20716 non-null  float64\n",
      " 9   Key               20716 non-null  float64\n",
      " 10  Loudness          20716 non-null  float64\n",
      " 11  Speechiness       20716 non-null  float64\n",
      " 12  Acousticness      20716 non-null  float64\n",
      " 13  Instrumentalness  20716 non-null  float64\n",
      " 14  Liveness          20716 non-null  float64\n",
      " 15  Valence           20716 non-null  float64\n",
      " 16  Tempo             20716 non-null  float64\n",
      " 17  Duration_ms       20716 non-null  float64\n",
      " 18  Url_youtube       20248 non-null  object \n",
      " 19  Title             20248 non-null  object \n",
      " 20  Channel           20248 non-null  object \n",
      " 21  Views             20248 non-null  float64\n",
      " 22  Likes             20177 non-null  float64\n",
      " 23  Comments          20149 non-null  float64\n",
      " 24  Description       19842 non-null  object \n",
      " 25  Licensed          20248 non-null  object \n",
      " 26  official_video    20248 non-null  object \n",
      " 27  Stream            20142 non-null  float64\n",
      "dtypes: float64(15), int64(1), object(12)\n",
      "memory usage: 4.4+ MB\n"
     ]
    }
   ],
   "source": [
    "df.info() # проверяла наличие пропущенных значений и формат"
   ]
  },
  {
   "cell_type": "markdown",
   "metadata": {},
   "source": [
    "### Вопросы:"
   ]
  },
  {
   "cell_type": "markdown",
   "metadata": {},
   "source": [
    "#### 1. Какая песня является наиболее транслируемой в датасете (признак Stream)?"
   ]
  },
  {
   "cell_type": "markdown",
   "metadata": {},
   "source": [
    "##### При решении вопросов о максимуме значений, нулевыми данными мы можем пренебречь"
   ]
  },
  {
   "cell_type": "markdown",
   "metadata": {},
   "source": [
    "##### Составляем сводную таблицу и возвращаем индекс с максимальным значением просмотров"
   ]
  },
  {
   "cell_type": "code",
   "execution_count": 273,
   "metadata": {},
   "outputs": [
    {
     "name": "stdout",
     "output_type": "stream",
     "text": [
      "Наиболее часто транслируемая композиция: Blinding Lights\n"
     ]
    }
   ],
   "source": [
    "df_stream = pd.pivot_table(df, index = 'Track', values = 'Stream')\n",
    "max_stream = df_stream['Stream'].idxmax()\n",
    "print (\"Наиболее часто транслируемая композиция: {0}\".format(max_stream))"
   ]
  },
  {
   "cell_type": "markdown",
   "metadata": {},
   "source": [
    "#### 2. У какого исполнителя больше всего просмотров на YouTube?"
   ]
  },
  {
   "cell_type": "markdown",
   "metadata": {},
   "source": [
    "#### Составляем сводную таблицу, в которой в столбце 'Views' отражена сумма просмотров для каждого исполнителя. На основании этих данных определяем нашего лидера."
   ]
  },
  {
   "cell_type": "code",
   "execution_count": 188,
   "metadata": {},
   "outputs": [
    {
     "name": "stdout",
     "output_type": "stream",
     "text": [
      "Наибольшее количество просмотров у : Ed Sheeran\n"
     ]
    }
   ],
   "source": [
    "df_views = pd.pivot_table(df, index = 'Artist', values = 'Views', aggfunc = np.sum)\n",
    "max_views = df_views['Views'].idxmax()\n",
    "print (\"Наибольшее количество просмотров у : {0}\".format(max_views))"
   ]
  },
  {
   "cell_type": "markdown",
   "metadata": {},
   "source": [
    "#### 3. Какова средняя продолжительность всех песен в минутах?"
   ]
  },
  {
   "cell_type": "code",
   "execution_count": 189,
   "metadata": {},
   "outputs": [
    {
     "data": {
      "text/plain": [
       "2"
      ]
     },
     "execution_count": 189,
     "metadata": {},
     "output_type": "execute_result"
    }
   ],
   "source": [
    "df['Duration_ms'].isnull().sum()"
   ]
  },
  {
   "cell_type": "markdown",
   "metadata": {},
   "source": [
    "#### В результате проверки отсутствие данных лишь у 2 композиций, принято решение заменить эти значения на средние."
   ]
  },
  {
   "cell_type": "code",
   "execution_count": 190,
   "metadata": {},
   "outputs": [
    {
     "data": {
      "text/plain": [
       "0"
      ]
     },
     "execution_count": 190,
     "metadata": {},
     "output_type": "execute_result"
    }
   ],
   "source": [
    "medianDuration = df['Duration_ms'].median()\n",
    "df['Duration_ms'].fillna(medianDuration, inplace = True)\n",
    "df['Duration_ms'].isnull().sum()"
   ]
  },
  {
   "cell_type": "code",
   "execution_count": 191,
   "metadata": {},
   "outputs": [
    {
     "name": "stdout",
     "output_type": "stream",
     "text": [
      "Средняя продолжительность композиций в милисекундах: 213284.5\n"
     ]
    }
   ],
   "source": [
    "med_Duration = df['Duration_ms'].median()\n",
    "print (\"Средняя продолжительность композиций в милисекундах: {0}\".format(med_Duration))"
   ]
  },
  {
   "cell_type": "markdown",
   "metadata": {},
   "source": [
    "#### при перепроверке с заменой нулевых значений на наиболее часто встречающиеся изменений в результатах нет"
   ]
  },
  {
   "cell_type": "markdown",
   "metadata": {},
   "source": [
    "#### 4. Какая нота (Key) чаще всего используется в песнях?"
   ]
  },
  {
   "cell_type": "code",
   "execution_count": 192,
   "metadata": {},
   "outputs": [
    {
     "data": {
      "text/plain": [
       "2"
      ]
     },
     "execution_count": 192,
     "metadata": {},
     "output_type": "execute_result"
    }
   ],
   "source": [
    "df['Key'].isnull().sum() #проверка по нулевым значениям с принятием решения по замене"
   ]
  },
  {
   "cell_type": "code",
   "execution_count": 193,
   "metadata": {},
   "outputs": [
    {
     "data": {
      "text/plain": [
       "0.0     2305\n",
       "7.0     2252\n",
       "1.0     2211\n",
       "2.0     2021\n",
       "9.0     1979\n",
       "5.0     1731\n",
       "11.0    1667\n",
       "4.0     1515\n",
       "8.0     1483\n",
       "6.0     1443\n",
       "10.0    1439\n",
       "3.0      670\n",
       "Name: Key, dtype: int64"
      ]
     },
     "execution_count": 193,
     "metadata": {},
     "output_type": "execute_result"
    }
   ],
   "source": [
    "df['Key'].value_counts() #в аннотации указано, что при невыявленных значениях обозначение \"-1\", проверяем на такие значения"
   ]
  },
  {
   "cell_type": "markdown",
   "metadata": {},
   "source": [
    "#### Считаю избыточным использование типа float, изменяем на int"
   ]
  },
  {
   "cell_type": "code",
   "execution_count": 274,
   "metadata": {},
   "outputs": [
    {
     "ename": "IntCastingNaNError",
     "evalue": "Cannot convert non-finite values (NA or inf) to integer",
     "output_type": "error",
     "traceback": [
      "\u001b[1;31m---------------------------------------------------------------------------\u001b[0m",
      "\u001b[1;31mIntCastingNaNError\u001b[0m                        Traceback (most recent call last)",
      "\u001b[1;32mC:\\Users\\3940~1\\AppData\\Local\\Temp/ipykernel_11312/2110544255.py\u001b[0m in \u001b[0;36m<module>\u001b[1;34m\u001b[0m\n\u001b[1;32m----> 1\u001b[1;33m \u001b[0mdf\u001b[0m \u001b[1;33m=\u001b[0m \u001b[0mdf\u001b[0m\u001b[1;33m.\u001b[0m\u001b[0mastype\u001b[0m\u001b[1;33m(\u001b[0m\u001b[1;33m{\u001b[0m\u001b[1;34m'Key'\u001b[0m\u001b[1;33m:\u001b[0m \u001b[0mnp\u001b[0m\u001b[1;33m.\u001b[0m\u001b[0mint8\u001b[0m\u001b[1;33m}\u001b[0m\u001b[1;33m)\u001b[0m\u001b[1;33m\u001b[0m\u001b[1;33m\u001b[0m\u001b[0m\n\u001b[0m",
      "\u001b[1;32mC:\\ProgramData\\Anaconda3\\lib\\site-packages\\pandas\\core\\generic.py\u001b[0m in \u001b[0;36mastype\u001b[1;34m(self, dtype, copy, errors)\u001b[0m\n\u001b[0;32m   5797\u001b[0m                 \u001b[1;32mif\u001b[0m \u001b[0mcol_name\u001b[0m \u001b[1;32min\u001b[0m \u001b[0mdtype\u001b[0m\u001b[1;33m:\u001b[0m\u001b[1;33m\u001b[0m\u001b[1;33m\u001b[0m\u001b[0m\n\u001b[0;32m   5798\u001b[0m                     results.append(\n\u001b[1;32m-> 5799\u001b[1;33m                         \u001b[0mcol\u001b[0m\u001b[1;33m.\u001b[0m\u001b[0mastype\u001b[0m\u001b[1;33m(\u001b[0m\u001b[0mdtype\u001b[0m\u001b[1;33m=\u001b[0m\u001b[0mdtype\u001b[0m\u001b[1;33m[\u001b[0m\u001b[0mcol_name\u001b[0m\u001b[1;33m]\u001b[0m\u001b[1;33m,\u001b[0m \u001b[0mcopy\u001b[0m\u001b[1;33m=\u001b[0m\u001b[0mcopy\u001b[0m\u001b[1;33m,\u001b[0m \u001b[0merrors\u001b[0m\u001b[1;33m=\u001b[0m\u001b[0merrors\u001b[0m\u001b[1;33m)\u001b[0m\u001b[1;33m\u001b[0m\u001b[1;33m\u001b[0m\u001b[0m\n\u001b[0m\u001b[0;32m   5800\u001b[0m                     )\n\u001b[0;32m   5801\u001b[0m                 \u001b[1;32melse\u001b[0m\u001b[1;33m:\u001b[0m\u001b[1;33m\u001b[0m\u001b[1;33m\u001b[0m\u001b[0m\n",
      "\u001b[1;32mC:\\ProgramData\\Anaconda3\\lib\\site-packages\\pandas\\core\\generic.py\u001b[0m in \u001b[0;36mastype\u001b[1;34m(self, dtype, copy, errors)\u001b[0m\n\u001b[0;32m   5813\u001b[0m         \u001b[1;32melse\u001b[0m\u001b[1;33m:\u001b[0m\u001b[1;33m\u001b[0m\u001b[1;33m\u001b[0m\u001b[0m\n\u001b[0;32m   5814\u001b[0m             \u001b[1;31m# else, only a single dtype is given\u001b[0m\u001b[1;33m\u001b[0m\u001b[1;33m\u001b[0m\u001b[0m\n\u001b[1;32m-> 5815\u001b[1;33m             \u001b[0mnew_data\u001b[0m \u001b[1;33m=\u001b[0m \u001b[0mself\u001b[0m\u001b[1;33m.\u001b[0m\u001b[0m_mgr\u001b[0m\u001b[1;33m.\u001b[0m\u001b[0mastype\u001b[0m\u001b[1;33m(\u001b[0m\u001b[0mdtype\u001b[0m\u001b[1;33m=\u001b[0m\u001b[0mdtype\u001b[0m\u001b[1;33m,\u001b[0m \u001b[0mcopy\u001b[0m\u001b[1;33m=\u001b[0m\u001b[0mcopy\u001b[0m\u001b[1;33m,\u001b[0m \u001b[0merrors\u001b[0m\u001b[1;33m=\u001b[0m\u001b[0merrors\u001b[0m\u001b[1;33m)\u001b[0m\u001b[1;33m\u001b[0m\u001b[1;33m\u001b[0m\u001b[0m\n\u001b[0m\u001b[0;32m   5816\u001b[0m             \u001b[1;32mreturn\u001b[0m \u001b[0mself\u001b[0m\u001b[1;33m.\u001b[0m\u001b[0m_constructor\u001b[0m\u001b[1;33m(\u001b[0m\u001b[0mnew_data\u001b[0m\u001b[1;33m)\u001b[0m\u001b[1;33m.\u001b[0m\u001b[0m__finalize__\u001b[0m\u001b[1;33m(\u001b[0m\u001b[0mself\u001b[0m\u001b[1;33m,\u001b[0m \u001b[0mmethod\u001b[0m\u001b[1;33m=\u001b[0m\u001b[1;34m\"astype\"\u001b[0m\u001b[1;33m)\u001b[0m\u001b[1;33m\u001b[0m\u001b[1;33m\u001b[0m\u001b[0m\n\u001b[0;32m   5817\u001b[0m \u001b[1;33m\u001b[0m\u001b[0m\n",
      "\u001b[1;32mC:\\ProgramData\\Anaconda3\\lib\\site-packages\\pandas\\core\\internals\\managers.py\u001b[0m in \u001b[0;36mastype\u001b[1;34m(self, dtype, copy, errors)\u001b[0m\n\u001b[0;32m    416\u001b[0m \u001b[1;33m\u001b[0m\u001b[0m\n\u001b[0;32m    417\u001b[0m     \u001b[1;32mdef\u001b[0m \u001b[0mastype\u001b[0m\u001b[1;33m(\u001b[0m\u001b[0mself\u001b[0m\u001b[1;33m:\u001b[0m \u001b[0mT\u001b[0m\u001b[1;33m,\u001b[0m \u001b[0mdtype\u001b[0m\u001b[1;33m,\u001b[0m \u001b[0mcopy\u001b[0m\u001b[1;33m:\u001b[0m \u001b[0mbool\u001b[0m \u001b[1;33m=\u001b[0m \u001b[1;32mFalse\u001b[0m\u001b[1;33m,\u001b[0m \u001b[0merrors\u001b[0m\u001b[1;33m:\u001b[0m \u001b[0mstr\u001b[0m \u001b[1;33m=\u001b[0m \u001b[1;34m\"raise\"\u001b[0m\u001b[1;33m)\u001b[0m \u001b[1;33m->\u001b[0m \u001b[0mT\u001b[0m\u001b[1;33m:\u001b[0m\u001b[1;33m\u001b[0m\u001b[1;33m\u001b[0m\u001b[0m\n\u001b[1;32m--> 418\u001b[1;33m         \u001b[1;32mreturn\u001b[0m \u001b[0mself\u001b[0m\u001b[1;33m.\u001b[0m\u001b[0mapply\u001b[0m\u001b[1;33m(\u001b[0m\u001b[1;34m\"astype\"\u001b[0m\u001b[1;33m,\u001b[0m \u001b[0mdtype\u001b[0m\u001b[1;33m=\u001b[0m\u001b[0mdtype\u001b[0m\u001b[1;33m,\u001b[0m \u001b[0mcopy\u001b[0m\u001b[1;33m=\u001b[0m\u001b[0mcopy\u001b[0m\u001b[1;33m,\u001b[0m \u001b[0merrors\u001b[0m\u001b[1;33m=\u001b[0m\u001b[0merrors\u001b[0m\u001b[1;33m)\u001b[0m\u001b[1;33m\u001b[0m\u001b[1;33m\u001b[0m\u001b[0m\n\u001b[0m\u001b[0;32m    419\u001b[0m \u001b[1;33m\u001b[0m\u001b[0m\n\u001b[0;32m    420\u001b[0m     def convert(\n",
      "\u001b[1;32mC:\\ProgramData\\Anaconda3\\lib\\site-packages\\pandas\\core\\internals\\managers.py\u001b[0m in \u001b[0;36mapply\u001b[1;34m(self, f, align_keys, ignore_failures, **kwargs)\u001b[0m\n\u001b[0;32m    325\u001b[0m                     \u001b[0mapplied\u001b[0m \u001b[1;33m=\u001b[0m \u001b[0mb\u001b[0m\u001b[1;33m.\u001b[0m\u001b[0mapply\u001b[0m\u001b[1;33m(\u001b[0m\u001b[0mf\u001b[0m\u001b[1;33m,\u001b[0m \u001b[1;33m**\u001b[0m\u001b[0mkwargs\u001b[0m\u001b[1;33m)\u001b[0m\u001b[1;33m\u001b[0m\u001b[1;33m\u001b[0m\u001b[0m\n\u001b[0;32m    326\u001b[0m                 \u001b[1;32melse\u001b[0m\u001b[1;33m:\u001b[0m\u001b[1;33m\u001b[0m\u001b[1;33m\u001b[0m\u001b[0m\n\u001b[1;32m--> 327\u001b[1;33m                     \u001b[0mapplied\u001b[0m \u001b[1;33m=\u001b[0m \u001b[0mgetattr\u001b[0m\u001b[1;33m(\u001b[0m\u001b[0mb\u001b[0m\u001b[1;33m,\u001b[0m \u001b[0mf\u001b[0m\u001b[1;33m)\u001b[0m\u001b[1;33m(\u001b[0m\u001b[1;33m**\u001b[0m\u001b[0mkwargs\u001b[0m\u001b[1;33m)\u001b[0m\u001b[1;33m\u001b[0m\u001b[1;33m\u001b[0m\u001b[0m\n\u001b[0m\u001b[0;32m    328\u001b[0m             \u001b[1;32mexcept\u001b[0m \u001b[1;33m(\u001b[0m\u001b[0mTypeError\u001b[0m\u001b[1;33m,\u001b[0m \u001b[0mNotImplementedError\u001b[0m\u001b[1;33m)\u001b[0m\u001b[1;33m:\u001b[0m\u001b[1;33m\u001b[0m\u001b[1;33m\u001b[0m\u001b[0m\n\u001b[0;32m    329\u001b[0m                 \u001b[1;32mif\u001b[0m \u001b[1;32mnot\u001b[0m \u001b[0mignore_failures\u001b[0m\u001b[1;33m:\u001b[0m\u001b[1;33m\u001b[0m\u001b[1;33m\u001b[0m\u001b[0m\n",
      "\u001b[1;32mC:\\ProgramData\\Anaconda3\\lib\\site-packages\\pandas\\core\\internals\\blocks.py\u001b[0m in \u001b[0;36mastype\u001b[1;34m(self, dtype, copy, errors)\u001b[0m\n\u001b[0;32m    589\u001b[0m         \u001b[0mvalues\u001b[0m \u001b[1;33m=\u001b[0m \u001b[0mself\u001b[0m\u001b[1;33m.\u001b[0m\u001b[0mvalues\u001b[0m\u001b[1;33m\u001b[0m\u001b[1;33m\u001b[0m\u001b[0m\n\u001b[0;32m    590\u001b[0m \u001b[1;33m\u001b[0m\u001b[0m\n\u001b[1;32m--> 591\u001b[1;33m         \u001b[0mnew_values\u001b[0m \u001b[1;33m=\u001b[0m \u001b[0mastype_array_safe\u001b[0m\u001b[1;33m(\u001b[0m\u001b[0mvalues\u001b[0m\u001b[1;33m,\u001b[0m \u001b[0mdtype\u001b[0m\u001b[1;33m,\u001b[0m \u001b[0mcopy\u001b[0m\u001b[1;33m=\u001b[0m\u001b[0mcopy\u001b[0m\u001b[1;33m,\u001b[0m \u001b[0merrors\u001b[0m\u001b[1;33m=\u001b[0m\u001b[0merrors\u001b[0m\u001b[1;33m)\u001b[0m\u001b[1;33m\u001b[0m\u001b[1;33m\u001b[0m\u001b[0m\n\u001b[0m\u001b[0;32m    592\u001b[0m \u001b[1;33m\u001b[0m\u001b[0m\n\u001b[0;32m    593\u001b[0m         \u001b[0mnew_values\u001b[0m \u001b[1;33m=\u001b[0m \u001b[0mmaybe_coerce_values\u001b[0m\u001b[1;33m(\u001b[0m\u001b[0mnew_values\u001b[0m\u001b[1;33m)\u001b[0m\u001b[1;33m\u001b[0m\u001b[1;33m\u001b[0m\u001b[0m\n",
      "\u001b[1;32mC:\\ProgramData\\Anaconda3\\lib\\site-packages\\pandas\\core\\dtypes\\cast.py\u001b[0m in \u001b[0;36mastype_array_safe\u001b[1;34m(values, dtype, copy, errors)\u001b[0m\n\u001b[0;32m   1307\u001b[0m \u001b[1;33m\u001b[0m\u001b[0m\n\u001b[0;32m   1308\u001b[0m     \u001b[1;32mtry\u001b[0m\u001b[1;33m:\u001b[0m\u001b[1;33m\u001b[0m\u001b[1;33m\u001b[0m\u001b[0m\n\u001b[1;32m-> 1309\u001b[1;33m         \u001b[0mnew_values\u001b[0m \u001b[1;33m=\u001b[0m \u001b[0mastype_array\u001b[0m\u001b[1;33m(\u001b[0m\u001b[0mvalues\u001b[0m\u001b[1;33m,\u001b[0m \u001b[0mdtype\u001b[0m\u001b[1;33m,\u001b[0m \u001b[0mcopy\u001b[0m\u001b[1;33m=\u001b[0m\u001b[0mcopy\u001b[0m\u001b[1;33m)\u001b[0m\u001b[1;33m\u001b[0m\u001b[1;33m\u001b[0m\u001b[0m\n\u001b[0m\u001b[0;32m   1310\u001b[0m     \u001b[1;32mexcept\u001b[0m \u001b[1;33m(\u001b[0m\u001b[0mValueError\u001b[0m\u001b[1;33m,\u001b[0m \u001b[0mTypeError\u001b[0m\u001b[1;33m)\u001b[0m\u001b[1;33m:\u001b[0m\u001b[1;33m\u001b[0m\u001b[1;33m\u001b[0m\u001b[0m\n\u001b[0;32m   1311\u001b[0m         \u001b[1;31m# e.g. astype_nansafe can fail on object-dtype of strings\u001b[0m\u001b[1;33m\u001b[0m\u001b[1;33m\u001b[0m\u001b[0m\n",
      "\u001b[1;32mC:\\ProgramData\\Anaconda3\\lib\\site-packages\\pandas\\core\\dtypes\\cast.py\u001b[0m in \u001b[0;36mastype_array\u001b[1;34m(values, dtype, copy)\u001b[0m\n\u001b[0;32m   1255\u001b[0m \u001b[1;33m\u001b[0m\u001b[0m\n\u001b[0;32m   1256\u001b[0m     \u001b[1;32melse\u001b[0m\u001b[1;33m:\u001b[0m\u001b[1;33m\u001b[0m\u001b[1;33m\u001b[0m\u001b[0m\n\u001b[1;32m-> 1257\u001b[1;33m         \u001b[0mvalues\u001b[0m \u001b[1;33m=\u001b[0m \u001b[0mastype_nansafe\u001b[0m\u001b[1;33m(\u001b[0m\u001b[0mvalues\u001b[0m\u001b[1;33m,\u001b[0m \u001b[0mdtype\u001b[0m\u001b[1;33m,\u001b[0m \u001b[0mcopy\u001b[0m\u001b[1;33m=\u001b[0m\u001b[0mcopy\u001b[0m\u001b[1;33m)\u001b[0m\u001b[1;33m\u001b[0m\u001b[1;33m\u001b[0m\u001b[0m\n\u001b[0m\u001b[0;32m   1258\u001b[0m \u001b[1;33m\u001b[0m\u001b[0m\n\u001b[0;32m   1259\u001b[0m     \u001b[1;31m# in pandas we don't store numpy str dtypes, so convert to object\u001b[0m\u001b[1;33m\u001b[0m\u001b[1;33m\u001b[0m\u001b[0m\n",
      "\u001b[1;32mC:\\ProgramData\\Anaconda3\\lib\\site-packages\\pandas\\core\\dtypes\\cast.py\u001b[0m in \u001b[0;36mastype_nansafe\u001b[1;34m(arr, dtype, copy, skipna)\u001b[0m\n\u001b[0;32m   1166\u001b[0m \u001b[1;33m\u001b[0m\u001b[0m\n\u001b[0;32m   1167\u001b[0m     \u001b[1;32melif\u001b[0m \u001b[0mnp\u001b[0m\u001b[1;33m.\u001b[0m\u001b[0missubdtype\u001b[0m\u001b[1;33m(\u001b[0m\u001b[0marr\u001b[0m\u001b[1;33m.\u001b[0m\u001b[0mdtype\u001b[0m\u001b[1;33m,\u001b[0m \u001b[0mnp\u001b[0m\u001b[1;33m.\u001b[0m\u001b[0mfloating\u001b[0m\u001b[1;33m)\u001b[0m \u001b[1;32mand\u001b[0m \u001b[0mnp\u001b[0m\u001b[1;33m.\u001b[0m\u001b[0missubdtype\u001b[0m\u001b[1;33m(\u001b[0m\u001b[0mdtype\u001b[0m\u001b[1;33m,\u001b[0m \u001b[0mnp\u001b[0m\u001b[1;33m.\u001b[0m\u001b[0minteger\u001b[0m\u001b[1;33m)\u001b[0m\u001b[1;33m:\u001b[0m\u001b[1;33m\u001b[0m\u001b[1;33m\u001b[0m\u001b[0m\n\u001b[1;32m-> 1168\u001b[1;33m         \u001b[1;32mreturn\u001b[0m \u001b[0mastype_float_to_int_nansafe\u001b[0m\u001b[1;33m(\u001b[0m\u001b[0marr\u001b[0m\u001b[1;33m,\u001b[0m \u001b[0mdtype\u001b[0m\u001b[1;33m,\u001b[0m \u001b[0mcopy\u001b[0m\u001b[1;33m)\u001b[0m\u001b[1;33m\u001b[0m\u001b[1;33m\u001b[0m\u001b[0m\n\u001b[0m\u001b[0;32m   1169\u001b[0m \u001b[1;33m\u001b[0m\u001b[0m\n\u001b[0;32m   1170\u001b[0m     \u001b[1;32melif\u001b[0m \u001b[0mis_object_dtype\u001b[0m\u001b[1;33m(\u001b[0m\u001b[0marr\u001b[0m\u001b[1;33m)\u001b[0m\u001b[1;33m:\u001b[0m\u001b[1;33m\u001b[0m\u001b[1;33m\u001b[0m\u001b[0m\n",
      "\u001b[1;32mC:\\ProgramData\\Anaconda3\\lib\\site-packages\\pandas\\core\\dtypes\\cast.py\u001b[0m in \u001b[0;36mastype_float_to_int_nansafe\u001b[1;34m(values, dtype, copy)\u001b[0m\n\u001b[0;32m   1211\u001b[0m     \"\"\"\n\u001b[0;32m   1212\u001b[0m     \u001b[1;32mif\u001b[0m \u001b[1;32mnot\u001b[0m \u001b[0mnp\u001b[0m\u001b[1;33m.\u001b[0m\u001b[0misfinite\u001b[0m\u001b[1;33m(\u001b[0m\u001b[0mvalues\u001b[0m\u001b[1;33m)\u001b[0m\u001b[1;33m.\u001b[0m\u001b[0mall\u001b[0m\u001b[1;33m(\u001b[0m\u001b[1;33m)\u001b[0m\u001b[1;33m:\u001b[0m\u001b[1;33m\u001b[0m\u001b[1;33m\u001b[0m\u001b[0m\n\u001b[1;32m-> 1213\u001b[1;33m         raise IntCastingNaNError(\n\u001b[0m\u001b[0;32m   1214\u001b[0m             \u001b[1;34m\"Cannot convert non-finite values (NA or inf) to integer\"\u001b[0m\u001b[1;33m\u001b[0m\u001b[1;33m\u001b[0m\u001b[0m\n\u001b[0;32m   1215\u001b[0m         )\n",
      "\u001b[1;31mIntCastingNaNError\u001b[0m: Cannot convert non-finite values (NA or inf) to integer"
     ]
    }
   ],
   "source": [
    "df = df.astype({'Key': np.int8}) #срабатывает через раз. не поняла причину"
   ]
  },
  {
   "cell_type": "code",
   "execution_count": 275,
   "metadata": {},
   "outputs": [
    {
     "data": {
      "text/plain": [
       "2"
      ]
     },
     "execution_count": 275,
     "metadata": {},
     "output_type": "execute_result"
    }
   ],
   "source": [
    "modeKey = df['Key'].mode() # выбрана мода, т.к. позволит избежать конфликта с дробным кодированием нот\n",
    "df['Key'].fillna(modeKey, inplace = True)\n",
    "df['Key'].isnull().sum()"
   ]
  },
  {
   "cell_type": "markdown",
   "metadata": {},
   "source": [
    "#### Для правильного отображения ответа необходим источник с наименованиями нот. Один из вариантов: "
   ]
  },
  {
   "cell_type": "code",
   "execution_count": 276,
   "metadata": {},
   "outputs": [
    {
     "name": "stdout",
     "output_type": "stream",
     "text": [
      "Наиболее часто встречающаяся тональность: 0.0    C\n",
      "dtype: object\n"
     ]
    }
   ],
   "source": [
    "k = pd.Series(['C', 'C♯/D♭', 'D', 'D♯/E♭', 'E', 'F', 'F♯/G♭', 'G', 'G♯/A♭', 'A', 'A♯/B♭', 'B'])\n",
    "print (\"Наиболее часто встречающаяся тональность: {0}\".format(k[modeKey])) #не хотел \"дружить\" со списком, т.к. нулевые значения заполняли модой, то её значение не пересчитывала"
   ]
  },
  {
   "cell_type": "markdown",
   "metadata": {},
   "source": [
    "#### 5. Какая самая популярная песня на YouTube?"
   ]
  },
  {
   "cell_type": "markdown",
   "metadata": {},
   "source": [
    "#### у нас в заданиях очень много вопросов касается максимальных или средних значений, связанных с композициями и в ходе выполнения задания я приняла решение сделать одну таблицу для всех параметров."
   ]
  },
  {
   "cell_type": "code",
   "execution_count": 156,
   "metadata": {},
   "outputs": [
    {
     "name": "stdout",
     "output_type": "stream",
     "text": [
      "Наиболее популярная песня (на основе данных о просмотрах): Despacito\n"
     ]
    }
   ],
   "source": [
    "df_track = pd.pivot_table(df, index = 'Track', values = ['Views', 'Danceability','Energy', 'Valence',  'Speechiness', 'Loudness'])\n",
    "max_track_views = df_track['Views'].idxmax()\n",
    "print (\"Наиболее популярная песня (на основе данных о просмотрах): {0}\".format(max_track_views))"
   ]
  },
  {
   "cell_type": "markdown",
   "metadata": {},
   "source": [
    "#### 6. У какой песни самый высокий балл за танцевальность (danceability )?"
   ]
  },
  {
   "cell_type": "code",
   "execution_count": 148,
   "metadata": {},
   "outputs": [
    {
     "name": "stdout",
     "output_type": "stream",
     "text": [
      "Самый высокий балл за танцевальность получила композиция: CAN'T TOUCH THIS\n"
     ]
    }
   ],
   "source": [
    "max_dance = df_track['Danceability'].idxmax() #таблицу сводную составила ранее, так же и к другим аналогичным заданиям\n",
    "print (\"Самый высокий балл за танцевальность получила композиция: {0}\".format(max_dance))"
   ]
  },
  {
   "cell_type": "markdown",
   "metadata": {},
   "source": [
    "#### 7. У какой песни самый высокий показатель энергии (energy score)?"
   ]
  },
  {
   "cell_type": "code",
   "execution_count": 150,
   "metadata": {},
   "outputs": [
    {
     "name": "stdout",
     "output_type": "stream",
     "text": [
      "Самый высокий показатель энергии получила композиция: Gentle Piano Melodies\n"
     ]
    }
   ],
   "source": [
    "max_energy = df_track['Energy'].idxmax()\n",
    "print (\"Самый высокий показатель энергии получила композиция: {0}\".format(max_energy))"
   ]
  },
  {
   "cell_type": "markdown",
   "metadata": {},
   "source": [
    "#### 8. Какая песня имеет наивысший балл valence (valence score)?"
   ]
  },
  {
   "cell_type": "code",
   "execution_count": 152,
   "metadata": {},
   "outputs": [
    {
     "name": "stdout",
     "output_type": "stream",
     "text": [
      "Самый высокий по показателю позитивности у композиции: Spider Dance\n"
     ]
    }
   ],
   "source": [
    "max_Valence = df_track['Valence'].idxmax()\n",
    "print (\"Самый высокий по показателю позитивности у композиции: {0}\".format(max_Valence))"
   ]
  },
  {
   "cell_type": "markdown",
   "metadata": {},
   "source": [
    "#### 9. Будут ли песни с более высокой «valence» (музыкальной позитивностью) более популярны как на Spotify, так и на YouTube? Чтобы ответить на этот вопрос, подсчитайте среднюю оценку «valence» для песен в верхнем квартиле «Streams» и «Views» и сравните ее с общей средней «valence»."
   ]
  },
  {
   "cell_type": "code",
   "execution_count": 282,
   "metadata": {},
   "outputs": [
    {
     "name": "stdout",
     "output_type": "stream",
     "text": [
      "Средняя оценка позитивности равна:0.5298533240007675,\n",
      " при этом для более популярных песен на YouTube она составила: 0.5422132354296995\n",
      " и для популярных песен на Spotify: 0.530604157176906\n"
     ]
    }
   ],
   "source": [
    "df_val_v = df.loc[df['Views'] > df['Views'].quantile(.25), 'Valence']\n",
    "mean_val_v = df_val_v.mean()\n",
    "\n",
    "df_val_s = df.loc[df['Stream'] > df['Stream'].quantile(.25), 'Valence']\n",
    "mean_val_s = df_val_s.mean()\n",
    "\n",
    "global_mean_val = df['Valence'].mean()\n",
    "print (\"Средняя оценка позитивности равна:{0},\\n при этом для более популярных песен на YouTube она составила: {1}\\n и для популярных песен на Spotify: {2}\".format (global_mean_val, mean_val_v, mean_val_s))"
   ]
  },
  {
   "cell_type": "markdown",
   "metadata": {},
   "source": [
    "#### При оценке полученных результатов выявлены незначительные расхождения, что не может свидетельствовать о большей популярности более позитивных песен."
   ]
  },
  {
   "cell_type": "markdown",
   "metadata": {},
   "source": [
    "#### 10. Какой канал на YouTube имеет наибольшее количество просмотров?"
   ]
  },
  {
   "cell_type": "code",
   "execution_count": 128,
   "metadata": {},
   "outputs": [
    {
     "name": "stdout",
     "output_type": "stream",
     "text": [
      "Наибольшее количество просмотров на YouTube у канала: T-Series\n"
     ]
    }
   ],
   "source": [
    "df_Channel = pd.pivot_table(df, index = 'Channel', values = 'Views', aggfunc = np.sum) #сводная таблица\n",
    "max_Channel = df_Channel['Views'].idxmax()\n",
    "print (\"Наибольшее количество просмотров на YouTube у канала: {0}\".format(max_Channel))"
   ]
  },
  {
   "cell_type": "markdown",
   "metadata": {},
   "source": [
    "#### 11. У песни какого исполнителя больше всего комментариев на YouTube?"
   ]
  },
  {
   "cell_type": "code",
   "execution_count": 137,
   "metadata": {},
   "outputs": [
    {
     "name": "stdout",
     "output_type": "stream",
     "text": [
      "Наибольшее количество комментариев на YouTube исполнителя (указан исполнитель и название композиции): ('BTS', 'Dynamite')\n"
     ]
    }
   ],
   "source": [
    "df_com = pd.pivot_table(df, index = ['Artist', 'Track'], values = 'Comments')\n",
    "max_com = df_com['Comments'].idxmax()\n",
    "print (\"Наибольшее количество комментариев на YouTube исполнителя (указан исполнитель и название композиции): {0}\".format(max_com))"
   ]
  },
  {
   "cell_type": "markdown",
   "metadata": {},
   "source": [
    "#### 12. Какой самый распространенный темп (tempo) песен?"
   ]
  },
  {
   "cell_type": "code",
   "execution_count": 138,
   "metadata": {},
   "outputs": [
    {
     "name": "stdout",
     "output_type": "stream",
     "text": [
      "Самый распространенный темп песен: 0    77.986\n",
      "dtype: float64 ударов в минуту\n"
     ]
    }
   ],
   "source": [
    "mode_temp = df['Tempo'].mode() #Находим моду\n",
    "print (\"Самый распространенный темп песен: {0} ударов в минуту\". format(mode_temp))"
   ]
  },
  {
   "cell_type": "markdown",
   "metadata": {},
   "source": [
    "#### 13. Какая песня имеет самый высокий показатель по speechiness?"
   ]
  },
  {
   "cell_type": "code",
   "execution_count": 154,
   "metadata": {},
   "outputs": [
    {
     "name": "stdout",
     "output_type": "stream",
     "text": [
      "Самая наполненная речью композиция: Teil 7 - Sherlock Holmes und der blinde Bettler - Die neuen Abenteuer, Folge 50\n"
     ]
    }
   ],
   "source": [
    "max_speech = df_track['Speechiness'].idxmax() #сводная таблица составлена ранее\n",
    "print (\"Самая наполненная речью композиция: {0}\".format(max_speech))"
   ]
  },
  {
   "cell_type": "markdown",
   "metadata": {},
   "source": [
    "#### 14. Какая самая громкая песня в наборе данных?"
   ]
  },
  {
   "cell_type": "code",
   "execution_count": 157,
   "metadata": {},
   "outputs": [
    {
     "name": "stdout",
     "output_type": "stream",
     "text": [
      "Самая громкая композиция: Siren\n"
     ]
    }
   ],
   "source": [
    "max_loud = df_track['Loudness'].idxmax() #сводная таблица составлена ранее\n",
    "print (\"Самая громкая композиция: {0}\".format(max_loud))"
   ]
  },
  {
   "cell_type": "markdown",
   "metadata": {},
   "source": [
    "#### 15. У какого артиста самый высокий средний балл danceability?"
   ]
  },
  {
   "cell_type": "code",
   "execution_count": 159,
   "metadata": {},
   "outputs": [
    {
     "name": "stdout",
     "output_type": "stream",
     "text": [
      "Самый высокий средний балл танцевальности у: Saweetie\n"
     ]
    }
   ],
   "source": [
    "df_artdance = pd.pivot_table(df, index = 'Artist', values = 'Danceability', aggfunc = np.mean)\n",
    "max_artdance = df_artdance['Danceability'].idxmax()\n",
    "print (\"Самый высокий средний балл танцевальности у: {0}\".format(max_artdance))"
   ]
  },
  {
   "cell_type": "markdown",
   "metadata": {},
   "source": [
    "#### 16. Как средний показатель «speechiness» песен зависит от «Album_type»? Песни, выпущенные как синглы, чаще содержат больше слов согласно анализу?"
   ]
  },
  {
   "cell_type": "code",
   "execution_count": 219,
   "metadata": {},
   "outputs": [
    {
     "data": {
      "text/html": [
       "<div>\n",
       "<style scoped>\n",
       "    .dataframe tbody tr th:only-of-type {\n",
       "        vertical-align: middle;\n",
       "    }\n",
       "\n",
       "    .dataframe tbody tr th {\n",
       "        vertical-align: top;\n",
       "    }\n",
       "\n",
       "    .dataframe thead th {\n",
       "        text-align: right;\n",
       "    }\n",
       "</style>\n",
       "<table border=\"1\" class=\"dataframe\">\n",
       "  <thead>\n",
       "    <tr style=\"text-align: right;\">\n",
       "      <th></th>\n",
       "      <th>Speechiness</th>\n",
       "    </tr>\n",
       "    <tr>\n",
       "      <th>Album_type</th>\n",
       "      <th></th>\n",
       "    </tr>\n",
       "  </thead>\n",
       "  <tbody>\n",
       "    <tr>\n",
       "      <th>album</th>\n",
       "      <td>0.094900</td>\n",
       "    </tr>\n",
       "    <tr>\n",
       "      <th>compilation</th>\n",
       "      <td>0.078867</td>\n",
       "    </tr>\n",
       "    <tr>\n",
       "      <th>single</th>\n",
       "      <td>0.103867</td>\n",
       "    </tr>\n",
       "  </tbody>\n",
       "</table>\n",
       "</div>"
      ],
      "text/plain": [
       "             Speechiness\n",
       "Album_type              \n",
       "album           0.094900\n",
       "compilation     0.078867\n",
       "single          0.103867"
      ]
     },
     "execution_count": 219,
     "metadata": {},
     "output_type": "execute_result"
    }
   ],
   "source": [
    "df_album = pd.pivot_table(df, index = 'Album_type', values = 'Speechiness', aggfunc = np.mean)\n",
    "df_album.head()"
   ]
  },
  {
   "cell_type": "markdown",
   "metadata": {},
   "source": [
    "#### В среднем синглы содержат больше слов, чем песни, включенные в альбомы"
   ]
  },
  {
   "cell_type": "markdown",
   "metadata": {},
   "source": [
    "#### 17. Каково среднее количество прослушиваний песен, которые входят в топ 10% лучших по метрике танцевальности?"
   ]
  },
  {
   "cell_type": "code",
   "execution_count": 270,
   "metadata": {},
   "outputs": [
    {
     "name": "stdout",
     "output_type": "stream",
     "text": [
      "Среднее количество прослушиваний песен: 151937094.0277778 \n"
     ]
    }
   ],
   "source": [
    "df_dan_stream = df.loc[df['Danceability'] > df['Danceability'].quantile(.90), 'Stream'] #90 квантиль отсекает 10% ТОП\n",
    "mean_dan_stream = df_dan_stream.mean()\n",
    "print (\"Среднее количество прослушиваний песен: {0} \".format(mean_dan_stream))"
   ]
  },
  {
   "cell_type": "markdown",
   "metadata": {},
   "source": [
    "#### 18. Для песен, которые входят в топ 10% лучших с точки зрения «danceability» метрики, как соотносится их средний показатель «tempo» со средним показателем «tempo» всех песен?"
   ]
  },
  {
   "cell_type": "code",
   "execution_count": 272,
   "metadata": {},
   "outputs": [
    {
     "name": "stdout",
     "output_type": "stream",
     "text": [
      "Среднее количество прослушиваний песен в топ 10%: 115.05352150537642 и это меньше, чем среднее количество прослушиваний песен для всех песен: 120.63833993048716 \n"
     ]
    }
   ],
   "source": [
    "df_dan_tempo = df.loc[df['Danceability'] > df['Danceability'].quantile(.90), 'Tempo']\n",
    "mean_dan_tempo = df_dan_tempo.mean()\n",
    "global_mean_dan = df['Tempo'].mean()\n",
    "if mean_dan_tempo > global_mean_dan:\n",
    "     print (\"Среднее количество прослушиваний песен в топ 10%: {0} и это больше, чем среднее количество прослушиваний песен для всех песен: {1} \".format(mean_dan_tempo, global_mean_dan))\n",
    "elif mean_dan_tempo == global_mean_dan:\n",
    "     print (\"Среднее количество прослушиваний песен в топ 10% и среднее количество лайков для всех песен одинаковы: {0} \".format(mean_dan_tempo))\n",
    "else:\n",
    "     print (\"Среднее количество прослушиваний песен в топ 10%: {0} и это меньше, чем среднее количество прослушиваний песен для всех песен: {1} \".format(mean_dan_tempo, global_mean_dan))\n",
    "            "
   ]
  },
  {
   "cell_type": "markdown",
   "metadata": {},
   "source": [
    "#### 19. Какова корреляция между «valence» метрикой песни и ее популярностью на YouTube (по показателю «Views») и Spotify (по показателю «Stream»)? Счастливые песни более популярны? Valency отвечает за жизнерадостность песни."
   ]
  },
  {
   "cell_type": "code",
   "execution_count": 223,
   "metadata": {},
   "outputs": [
    {
     "name": "stdout",
     "output_type": "stream",
     "text": [
      "Величина корреляции между жизнерадостностью и просмотрами на YuoTube составляет: 0.03542303191912803\n",
      "Величина корреляции между жизнерадостностью и просмотрами на Spotify составляет: -0.01210929135200157\n"
     ]
    }
   ],
   "source": [
    "corr_val1 = df['Valence']. corr(df['Views'])\n",
    "corr_val2 = df['Valence']. corr(df['Stream'])\n",
    "print (\"Величина корреляции между жизнерадостностью и просмотрами на YouTube составляет: {0}\".format(corr_val1))\n",
    "print (\"Величина корреляции между жизнерадостностью и просмотрами на Spotify составляет: {0}\".format(corr_val2))"
   ]
  },
  {
   "cell_type": "markdown",
   "metadata": {},
   "source": [
    "#### Жизнерадостность песен не влияет на их популярность, оба показателя близки к 0. А на Spofity мы видим даже обратную связь, но очень слабую."
   ]
  },
  {
   "cell_type": "markdown",
   "metadata": {},
   "source": [
    "#### 20. Какова средняя громкость песен, которые входят в топ 10% лучших по энергетике (Energy)?"
   ]
  },
  {
   "cell_type": "code",
   "execution_count": 243,
   "metadata": {},
   "outputs": [
    {
     "name": "stdout",
     "output_type": "stream",
     "text": [
      "Средняя громкость ТОП-10% энергичных песен: -4.626454943984414 dB\n"
     ]
    }
   ],
   "source": [
    "df_loud10 = df.loc[df['Energy'] > df['Energy'].quantile(.90), ['Loudness']]\n",
    "mean_loud10 = df_loud10['Loudness'].mean()\n",
    "print(\"Средняя громкость ТОП-10% энергичных песен: {0} dB\".format(mean_loud10))"
   ]
  },
  {
   "cell_type": "markdown",
   "metadata": {},
   "source": [
    "#### 21. У какого исполнителя больше всего песен, которые входят в топ-10% как по просмотрам на YouTube, так и по стримам Spotify?"
   ]
  },
  {
   "cell_type": "code",
   "execution_count": 312,
   "metadata": {},
   "outputs": [
    {
     "data": {
      "text/html": [
       "<div>\n",
       "<style scoped>\n",
       "    .dataframe tbody tr th:only-of-type {\n",
       "        vertical-align: middle;\n",
       "    }\n",
       "\n",
       "    .dataframe tbody tr th {\n",
       "        vertical-align: top;\n",
       "    }\n",
       "\n",
       "    .dataframe thead th {\n",
       "        text-align: right;\n",
       "    }\n",
       "</style>\n",
       "<table border=\"1\" class=\"dataframe\">\n",
       "  <thead>\n",
       "    <tr style=\"text-align: right;\">\n",
       "      <th></th>\n",
       "      <th>Artist</th>\n",
       "    </tr>\n",
       "  </thead>\n",
       "  <tbody>\n",
       "    <tr>\n",
       "      <th>Dua Lipa</th>\n",
       "      <td>9</td>\n",
       "    </tr>\n",
       "    <tr>\n",
       "      <th>Coldplay</th>\n",
       "      <td>9</td>\n",
       "    </tr>\n",
       "    <tr>\n",
       "      <th>Calvin Harris</th>\n",
       "      <td>9</td>\n",
       "    </tr>\n",
       "    <tr>\n",
       "      <th>Eminem</th>\n",
       "      <td>8</td>\n",
       "    </tr>\n",
       "    <tr>\n",
       "      <th>One Direction</th>\n",
       "      <td>8</td>\n",
       "    </tr>\n",
       "  </tbody>\n",
       "</table>\n",
       "</div>"
      ],
      "text/plain": [
       "               Artist\n",
       "Dua Lipa            9\n",
       "Coldplay            9\n",
       "Calvin Harris       9\n",
       "Eminem              8\n",
       "One Direction       8"
      ]
     },
     "execution_count": 312,
     "metadata": {},
     "output_type": "execute_result"
    }
   ],
   "source": [
    "df_art10= df.loc[(df['Views'] > df['Views'].quantile(.90)) & (df['Stream'] > df['Stream'].quantile(.90)), 'Artist']\n",
    "art10 = df_art10.value_counts().to_frame() \n",
    "art10.head()"
   ]
  },
  {
   "cell_type": "code",
   "execution_count": 313,
   "metadata": {},
   "outputs": [
    {
     "name": "stdout",
     "output_type": "stream",
     "text": [
      "Dua Lipa\n"
     ]
    }
   ],
   "source": [
    "max_art10 = art10['Artist'].idxmax() # ищем максимум\n",
    "print (max_art10)# не сообразила, как вывести не одного исполнителя. количество входжений у нескольких одинаково."
   ]
  },
  {
   "cell_type": "markdown",
   "metadata": {},
   "source": [
    "#### 22. Какова корреляция между «energy» песни и ее «loudness»?"
   ]
  },
  {
   "cell_type": "code",
   "execution_count": 217,
   "metadata": {},
   "outputs": [
    {
     "name": "stdout",
     "output_type": "stream",
     "text": [
      "Величина корреляции составляет: 0.7448445555528456\n"
     ]
    }
   ],
   "source": [
    "corr_el = df['Energy']. corr(df['Loudness'])\n",
    "print (\"Величина корреляции составляет: {0}\".format(corr_el))"
   ]
  },
  {
   "cell_type": "markdown",
   "metadata": {},
   "source": [
    "#### В данном случае корреляция прямая и высокая."
   ]
  },
  {
   "cell_type": "markdown",
   "metadata": {},
   "source": [
    "#### 23. Каково среднее количество лайков на YouTube для песен, которые находятся в верхнем квартиле (25%) и как это соотносится с общим средним показателем?"
   ]
  },
  {
   "cell_type": "code",
   "execution_count": 245,
   "metadata": {},
   "outputs": [
    {
     "name": "stdout",
     "output_type": "stream",
     "text": [
      "Средняя количество лайков в верхнем квартиле: 882362.0524054983 и это больше, чем среднее количество лайков для всех песен: 663341.0613074292 \n"
     ]
    }
   ],
   "source": [
    "df_like = df.loc[df['Likes'] > df['Likes'].quantile(.25), ['Track', 'Likes']]\n",
    "mean_like = df_like['Likes'].mean()\n",
    "global_mean_like = df['Likes'].mean()\n",
    "if mean_like > global_mean_like:\n",
    "     print (\"Среднее количество лайков в верхнем квартиле: {0} и это больше, чем среднее количество лайков для всех песен: {1} \".format(mean_like, global_mean_like))\n",
    "elif mean_like == global_mean_like:\n",
    "     print (\"Среднее количество лайков в верхнем квартиле и среднее количество лайков для всех песен одинаковы: {0} \".format(mean_like))\n",
    "else:\n",
    "     print (\"Среднее количество лайков в верхнем квартиле: {0} и это меньше, чем среднее количество лайков для всех песен: {1} \".format(mean_like, global_mean_like))\n",
    "            "
   ]
  },
  {
   "cell_type": "markdown",
   "metadata": {},
   "source": [
    "#### 24. Есть ли существенная разница в средней «valence» метрикой для песен, выпущенных как синглы, по сравнению с песнями, выпущенными в виде альбома?"
   ]
  },
  {
   "cell_type": "code",
   "execution_count": 224,
   "metadata": {},
   "outputs": [
    {
     "data": {
      "text/html": [
       "<div>\n",
       "<style scoped>\n",
       "    .dataframe tbody tr th:only-of-type {\n",
       "        vertical-align: middle;\n",
       "    }\n",
       "\n",
       "    .dataframe tbody tr th {\n",
       "        vertical-align: top;\n",
       "    }\n",
       "\n",
       "    .dataframe thead th {\n",
       "        text-align: right;\n",
       "    }\n",
       "</style>\n",
       "<table border=\"1\" class=\"dataframe\">\n",
       "  <thead>\n",
       "    <tr style=\"text-align: right;\">\n",
       "      <th></th>\n",
       "      <th>Valence</th>\n",
       "    </tr>\n",
       "    <tr>\n",
       "      <th>Album_type</th>\n",
       "      <th></th>\n",
       "    </tr>\n",
       "  </thead>\n",
       "  <tbody>\n",
       "    <tr>\n",
       "      <th>album</th>\n",
       "      <td>0.529771</td>\n",
       "    </tr>\n",
       "    <tr>\n",
       "      <th>compilation</th>\n",
       "      <td>0.529679</td>\n",
       "    </tr>\n",
       "    <tr>\n",
       "      <th>single</th>\n",
       "      <td>0.530126</td>\n",
       "    </tr>\n",
       "  </tbody>\n",
       "</table>\n",
       "</div>"
      ],
      "text/plain": [
       "              Valence\n",
       "Album_type           \n",
       "album        0.529771\n",
       "compilation  0.529679\n",
       "single       0.530126"
      ]
     },
     "execution_count": 224,
     "metadata": {},
     "output_type": "execute_result"
    }
   ],
   "source": [
    "df_album_val = pd.pivot_table(df, index = 'Album_type', values = 'Valence', aggfunc = np.mean)\n",
    "df_album_val.head()"
   ]
  },
  {
   "cell_type": "markdown",
   "metadata": {},
   "source": [
    "#### средние значения практически не отличаются как для синглов, так и для песен, включенных в альбомы и \"подборки\""
   ]
  },
  {
   "cell_type": "markdown",
   "metadata": {},
   "source": [
    "#### 25. Каково среднее количество «комментариев» на YouTube для песен с показателем «speechiness» выше 0,66 (что указывает на большое количество произнесенных слов) и как это соотносится с общим средним показателем?"
   ]
  },
  {
   "cell_type": "code",
   "execution_count": 236,
   "metadata": {},
   "outputs": [
    {
     "name": "stdout",
     "output_type": "stream",
     "text": [
      "Среднее количество комментариев у песен с высоким количеством слов: 334.60550458715596\n"
     ]
    }
   ],
   "source": [
    "df_com_hight = df.loc[df['Speechiness'] > 0.66, ['Comments']] #обозначаем условие вхождения\n",
    "com_mean = df_com_hight['Comments'].mean()\n",
    "print (\"Среднее количество комментариев у песен с высоким количеством слов: {0}\".format(com_mean))"
   ]
  }
 ],
 "metadata": {
  "kernelspec": {
   "display_name": "Python 3 (ipykernel)",
   "language": "python",
   "name": "python3"
  },
  "language_info": {
   "codemirror_mode": {
    "name": "ipython",
    "version": 3
   },
   "file_extension": ".py",
   "mimetype": "text/x-python",
   "name": "python",
   "nbconvert_exporter": "python",
   "pygments_lexer": "ipython3",
   "version": "3.9.7"
  }
 },
 "nbformat": 4,
 "nbformat_minor": 1
}
